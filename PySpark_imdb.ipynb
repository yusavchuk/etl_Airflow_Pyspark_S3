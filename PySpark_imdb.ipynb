{
 "cells": [
  {
   "cell_type": "code",
   "execution_count": 88,
   "id": "42266018",
   "metadata": {},
   "outputs": [],
   "source": [
    "import pandas as pd \n",
    "from pyspark.sql import SparkSession\n",
    "import os\n",
    "from pyspark.sql.types import StructType,StructField, StringType, IntegerType, BooleanType, ArrayType, FloatType\n",
    "import pyspark.sql.functions as func"
   ]
  },
  {
   "cell_type": "code",
   "execution_count": 2,
   "id": "4c49dfe4",
   "metadata": {},
   "outputs": [],
   "source": [
    "#YEEE it work!\n",
    "#!wget https://datasets.imdbws.com/name.basics.tsv.gz"
   ]
  },
  {
   "cell_type": "code",
   "execution_count": 3,
   "id": "1749514c",
   "metadata": {},
   "outputs": [],
   "source": [
    "title = '/home/yu_savchuk/petProject/create_datawarehouse/title_basics.tsv'\n",
    "rating = '/home/yu_savchuk/petProject/create_datawarehouse/title_ratings.tsv'"
   ]
  },
  {
   "cell_type": "code",
   "execution_count": 79,
   "id": "0d7b4848",
   "metadata": {},
   "outputs": [],
   "source": [
    "### Check values in columns\n",
    "df_title = pd.read_csv(title, sep='\\t', low_memory=False, nrows=100)\n"
   ]
  },
  {
   "cell_type": "code",
   "execution_count": 78,
   "id": "8867181f",
   "metadata": {},
   "outputs": [],
   "source": [
    "df_rating = pd.read_csv(rating, sep='\\t', low_memory=False, nrows=100)"
   ]
  },
  {
   "cell_type": "code",
   "execution_count": 6,
   "id": "0b3f5d46",
   "metadata": {},
   "outputs": [
    {
     "data": {
      "text/html": [
       "<div>\n",
       "<style scoped>\n",
       "    .dataframe tbody tr th:only-of-type {\n",
       "        vertical-align: middle;\n",
       "    }\n",
       "\n",
       "    .dataframe tbody tr th {\n",
       "        vertical-align: top;\n",
       "    }\n",
       "\n",
       "    .dataframe thead th {\n",
       "        text-align: right;\n",
       "    }\n",
       "</style>\n",
       "<table border=\"1\" class=\"dataframe\">\n",
       "  <thead>\n",
       "    <tr style=\"text-align: right;\">\n",
       "      <th></th>\n",
       "      <th>tconst</th>\n",
       "      <th>titleType</th>\n",
       "      <th>primaryTitle</th>\n",
       "      <th>originalTitle</th>\n",
       "      <th>isAdult</th>\n",
       "      <th>startYear</th>\n",
       "      <th>endYear</th>\n",
       "      <th>runtimeMinutes</th>\n",
       "      <th>genres</th>\n",
       "    </tr>\n",
       "  </thead>\n",
       "  <tbody>\n",
       "    <tr>\n",
       "      <th>0</th>\n",
       "      <td>tt0000001</td>\n",
       "      <td>short</td>\n",
       "      <td>Carmencita</td>\n",
       "      <td>Carmencita</td>\n",
       "      <td>0</td>\n",
       "      <td>1894</td>\n",
       "      <td>\\N</td>\n",
       "      <td>1</td>\n",
       "      <td>Documentary,Short</td>\n",
       "    </tr>\n",
       "    <tr>\n",
       "      <th>1</th>\n",
       "      <td>tt0000002</td>\n",
       "      <td>short</td>\n",
       "      <td>Le clown et ses chiens</td>\n",
       "      <td>Le clown et ses chiens</td>\n",
       "      <td>0</td>\n",
       "      <td>1892</td>\n",
       "      <td>\\N</td>\n",
       "      <td>5</td>\n",
       "      <td>Animation,Short</td>\n",
       "    </tr>\n",
       "    <tr>\n",
       "      <th>2</th>\n",
       "      <td>tt0000003</td>\n",
       "      <td>short</td>\n",
       "      <td>Pauvre Pierrot</td>\n",
       "      <td>Pauvre Pierrot</td>\n",
       "      <td>0</td>\n",
       "      <td>1892</td>\n",
       "      <td>\\N</td>\n",
       "      <td>4</td>\n",
       "      <td>Animation,Comedy,Romance</td>\n",
       "    </tr>\n",
       "    <tr>\n",
       "      <th>3</th>\n",
       "      <td>tt0000004</td>\n",
       "      <td>short</td>\n",
       "      <td>Un bon bock</td>\n",
       "      <td>Un bon bock</td>\n",
       "      <td>0</td>\n",
       "      <td>1892</td>\n",
       "      <td>\\N</td>\n",
       "      <td>12</td>\n",
       "      <td>Animation,Short</td>\n",
       "    </tr>\n",
       "    <tr>\n",
       "      <th>4</th>\n",
       "      <td>tt0000005</td>\n",
       "      <td>short</td>\n",
       "      <td>Blacksmith Scene</td>\n",
       "      <td>Blacksmith Scene</td>\n",
       "      <td>0</td>\n",
       "      <td>1893</td>\n",
       "      <td>\\N</td>\n",
       "      <td>1</td>\n",
       "      <td>Comedy,Short</td>\n",
       "    </tr>\n",
       "  </tbody>\n",
       "</table>\n",
       "</div>"
      ],
      "text/plain": [
       "      tconst titleType            primaryTitle           originalTitle  \\\n",
       "0  tt0000001     short              Carmencita              Carmencita   \n",
       "1  tt0000002     short  Le clown et ses chiens  Le clown et ses chiens   \n",
       "2  tt0000003     short          Pauvre Pierrot          Pauvre Pierrot   \n",
       "3  tt0000004     short             Un bon bock             Un bon bock   \n",
       "4  tt0000005     short        Blacksmith Scene        Blacksmith Scene   \n",
       "\n",
       "  isAdult startYear endYear runtimeMinutes                    genres  \n",
       "0       0      1894      \\N              1         Documentary,Short  \n",
       "1       0      1892      \\N              5           Animation,Short  \n",
       "2       0      1892      \\N              4  Animation,Comedy,Romance  \n",
       "3       0      1892      \\N             12           Animation,Short  \n",
       "4       0      1893      \\N              1              Comedy,Short  "
      ]
     },
     "execution_count": 6,
     "metadata": {},
     "output_type": "execute_result"
    }
   ],
   "source": [
    "df_title.head()"
   ]
  },
  {
   "cell_type": "code",
   "execution_count": 9,
   "id": "a3c07183",
   "metadata": {},
   "outputs": [
    {
     "data": {
      "text/html": [
       "<div>\n",
       "<style scoped>\n",
       "    .dataframe tbody tr th:only-of-type {\n",
       "        vertical-align: middle;\n",
       "    }\n",
       "\n",
       "    .dataframe tbody tr th {\n",
       "        vertical-align: top;\n",
       "    }\n",
       "\n",
       "    .dataframe thead th {\n",
       "        text-align: right;\n",
       "    }\n",
       "</style>\n",
       "<table border=\"1\" class=\"dataframe\">\n",
       "  <thead>\n",
       "    <tr style=\"text-align: right;\">\n",
       "      <th></th>\n",
       "      <th>tconst</th>\n",
       "      <th>averageRating</th>\n",
       "      <th>numVotes</th>\n",
       "    </tr>\n",
       "  </thead>\n",
       "  <tbody>\n",
       "    <tr>\n",
       "      <th>0</th>\n",
       "      <td>tt0000001</td>\n",
       "      <td>5.7</td>\n",
       "      <td>1876</td>\n",
       "    </tr>\n",
       "    <tr>\n",
       "      <th>1</th>\n",
       "      <td>tt0000002</td>\n",
       "      <td>5.9</td>\n",
       "      <td>248</td>\n",
       "    </tr>\n",
       "    <tr>\n",
       "      <th>2</th>\n",
       "      <td>tt0000003</td>\n",
       "      <td>6.5</td>\n",
       "      <td>1648</td>\n",
       "    </tr>\n",
       "    <tr>\n",
       "      <th>3</th>\n",
       "      <td>tt0000004</td>\n",
       "      <td>5.8</td>\n",
       "      <td>160</td>\n",
       "    </tr>\n",
       "    <tr>\n",
       "      <th>4</th>\n",
       "      <td>tt0000005</td>\n",
       "      <td>6.2</td>\n",
       "      <td>2475</td>\n",
       "    </tr>\n",
       "    <tr>\n",
       "      <th>...</th>\n",
       "      <td>...</td>\n",
       "      <td>...</td>\n",
       "      <td>...</td>\n",
       "    </tr>\n",
       "    <tr>\n",
       "      <th>1239447</th>\n",
       "      <td>tt9916690</td>\n",
       "      <td>6.5</td>\n",
       "      <td>6</td>\n",
       "    </tr>\n",
       "    <tr>\n",
       "      <th>1239448</th>\n",
       "      <td>tt9916720</td>\n",
       "      <td>5.1</td>\n",
       "      <td>209</td>\n",
       "    </tr>\n",
       "    <tr>\n",
       "      <th>1239449</th>\n",
       "      <td>tt9916730</td>\n",
       "      <td>8.7</td>\n",
       "      <td>6</td>\n",
       "    </tr>\n",
       "    <tr>\n",
       "      <th>1239450</th>\n",
       "      <td>tt9916766</td>\n",
       "      <td>6.7</td>\n",
       "      <td>19</td>\n",
       "    </tr>\n",
       "    <tr>\n",
       "      <th>1239451</th>\n",
       "      <td>tt9916778</td>\n",
       "      <td>7.2</td>\n",
       "      <td>34</td>\n",
       "    </tr>\n",
       "  </tbody>\n",
       "</table>\n",
       "<p>1239452 rows × 3 columns</p>\n",
       "</div>"
      ],
      "text/plain": [
       "            tconst  averageRating  numVotes\n",
       "0        tt0000001            5.7      1876\n",
       "1        tt0000002            5.9       248\n",
       "2        tt0000003            6.5      1648\n",
       "3        tt0000004            5.8       160\n",
       "4        tt0000005            6.2      2475\n",
       "...            ...            ...       ...\n",
       "1239447  tt9916690            6.5         6\n",
       "1239448  tt9916720            5.1       209\n",
       "1239449  tt9916730            8.7         6\n",
       "1239450  tt9916766            6.7        19\n",
       "1239451  tt9916778            7.2        34\n",
       "\n",
       "[1239452 rows x 3 columns]"
      ]
     },
     "execution_count": 9,
     "metadata": {},
     "output_type": "execute_result"
    }
   ],
   "source": [
    "df_rating"
   ]
  },
  {
   "cell_type": "code",
   "execution_count": 145,
   "id": "ad18f21c",
   "metadata": {},
   "outputs": [],
   "source": [
    "spark = SparkSession.builder.appName('Transformation').getOrCreate()"
   ]
  },
  {
   "cell_type": "code",
   "execution_count": 146,
   "id": "eda5ce38",
   "metadata": {},
   "outputs": [],
   "source": [
    "#Define schema for title file\n",
    "title_schema = StructType([\\\n",
    "                           StructField('tconst', StringType(), True),\\\n",
    "                           StructField('titleType', StringType(), True),\\\n",
    "                           StructField('primaryTitle', StringType(), True),\\\n",
    "                           StructField('originalTitle', StringType(), True),\\\n",
    "                           StructField('isAdult', BooleanType(), True),\\\n",
    "                           StructField('startYear', IntegerType(), True),\\\n",
    "                           StructField('endYear', IntegerType(), True),\\\n",
    "                           StructField('runtimeMinutes', IntegerType(), True),\\\n",
    "                           StructField('genres', StringType(), True)\n",
    "                           \n",
    "])"
   ]
  },
  {
   "cell_type": "code",
   "execution_count": 147,
   "id": "535861bf",
   "metadata": {},
   "outputs": [
    {
     "name": "stdout",
     "output_type": "stream",
     "text": [
      "root\n",
      " |-- tconst: string (nullable = true)\n",
      " |-- titleType: string (nullable = true)\n",
      " |-- primaryTitle: string (nullable = true)\n",
      " |-- originalTitle: string (nullable = true)\n",
      " |-- isAdult: boolean (nullable = true)\n",
      " |-- startYear: integer (nullable = true)\n",
      " |-- endYear: integer (nullable = true)\n",
      " |-- runtimeMinutes: integer (nullable = true)\n",
      " |-- genres: string (nullable = true)\n",
      "\n"
     ]
    }
   ],
   "source": [
    "### read title file\n",
    "df_title = spark.read.csv(title, schema=title_schema, sep='\\t', header=True)\n",
    "df_title.printSchema()"
   ]
  },
  {
   "cell_type": "code",
   "execution_count": 148,
   "id": "eb08f07d",
   "metadata": {},
   "outputs": [
    {
     "name": "stdout",
     "output_type": "stream",
     "text": [
      "root\n",
      " |-- tconst: string (nullable = true)\n",
      " |-- titleType: string (nullable = true)\n",
      " |-- primaryTitle: string (nullable = true)\n",
      " |-- isAdult: boolean (nullable = true)\n",
      " |-- startYear: integer (nullable = true)\n",
      " |-- runtimeMinutes: integer (nullable = true)\n",
      " |-- genres: string (nullable = true)\n",
      "\n"
     ]
    }
   ],
   "source": [
    "### Drop unnecassary columns\n",
    "df_title = df_title.drop('originalTitle', 'endYear')\n",
    "df_title.printSchema()"
   ]
  },
  {
   "cell_type": "code",
   "execution_count": 149,
   "id": "2c3a2aef",
   "metadata": {},
   "outputs": [],
   "source": [
    "### Convert genres column to array type\n",
    "df_title = df_title.withColumn('genres', func.split(df_title['genres'], ','))"
   ]
  },
  {
   "cell_type": "code",
   "execution_count": 150,
   "id": "303fdad6",
   "metadata": {},
   "outputs": [
    {
     "data": {
      "text/plain": [
       "[Row(tconst='tt0000001', titleType='short', primaryTitle='Carmencita', isAdult=None, startYear=1894, runtimeMinutes=1, genres=['Documentary', 'Short']),\n",
       " Row(tconst='tt0000002', titleType='short', primaryTitle='Le clown et ses chiens', isAdult=None, startYear=1892, runtimeMinutes=5, genres=['Animation', 'Short']),\n",
       " Row(tconst='tt0000003', titleType='short', primaryTitle='Pauvre Pierrot', isAdult=None, startYear=1892, runtimeMinutes=4, genres=['Animation', 'Comedy', 'Romance']),\n",
       " Row(tconst='tt0000004', titleType='short', primaryTitle='Un bon bock', isAdult=None, startYear=1892, runtimeMinutes=12, genres=['Animation', 'Short']),\n",
       " Row(tconst='tt0000005', titleType='short', primaryTitle='Blacksmith Scene', isAdult=None, startYear=1893, runtimeMinutes=1, genres=['Comedy', 'Short']),\n",
       " Row(tconst='tt0000006', titleType='short', primaryTitle='Chinese Opium Den', isAdult=None, startYear=1894, runtimeMinutes=1, genres=['Short']),\n",
       " Row(tconst='tt0000007', titleType='short', primaryTitle='Corbett and Courtney Before the Kinetograph', isAdult=None, startYear=1894, runtimeMinutes=1, genres=['Short', 'Sport']),\n",
       " Row(tconst='tt0000008', titleType='short', primaryTitle='Edison Kinetoscopic Record of a Sneeze', isAdult=None, startYear=1894, runtimeMinutes=1, genres=['Documentary', 'Short']),\n",
       " Row(tconst='tt0000009', titleType='short', primaryTitle='Miss Jerry', isAdult=None, startYear=1894, runtimeMinutes=40, genres=['Romance', 'Short']),\n",
       " Row(tconst='tt0000010', titleType='short', primaryTitle='Leaving the Factory', isAdult=None, startYear=1895, runtimeMinutes=1, genres=['Documentary', 'Short']),\n",
       " Row(tconst='tt0000011', titleType='short', primaryTitle='Akrobatisches Potpourri', isAdult=None, startYear=1895, runtimeMinutes=1, genres=['Documentary', 'Short']),\n",
       " Row(tconst='tt0000012', titleType='short', primaryTitle='The Arrival of a Train', isAdult=None, startYear=1896, runtimeMinutes=1, genres=['Documentary', 'Short']),\n",
       " Row(tconst='tt0000013', titleType='short', primaryTitle='The Photographical Congress Arrives in Lyon', isAdult=None, startYear=1895, runtimeMinutes=1, genres=['Documentary', 'Short']),\n",
       " Row(tconst='tt0000014', titleType='short', primaryTitle='The Waterer Watered', isAdult=None, startYear=1895, runtimeMinutes=1, genres=['Comedy', 'Short']),\n",
       " Row(tconst='tt0000015', titleType='short', primaryTitle=\"Autour d'une cabine\", isAdult=None, startYear=1894, runtimeMinutes=2, genres=['Animation', 'Short']),\n",
       " Row(tconst='tt0000016', titleType='short', primaryTitle='Boat Leaving the Port', isAdult=None, startYear=1895, runtimeMinutes=1, genres=['Documentary', 'Short']),\n",
       " Row(tconst='tt0000017', titleType='short', primaryTitle='Italienischer Bauerntanz', isAdult=None, startYear=1895, runtimeMinutes=1, genres=['Documentary', 'Short']),\n",
       " Row(tconst='tt0000018', titleType='short', primaryTitle='Das boxende Känguruh', isAdult=None, startYear=1895, runtimeMinutes=1, genres=['Short']),\n",
       " Row(tconst='tt0000019', titleType='short', primaryTitle='The Clown Barber', isAdult=None, startYear=1898, runtimeMinutes=None, genres=['Comedy', 'Short']),\n",
       " Row(tconst='tt0000020', titleType='short', primaryTitle='The Derby 1895', isAdult=None, startYear=1895, runtimeMinutes=1, genres=['Documentary', 'Short', 'Sport']),\n",
       " Row(tconst='tt0000022', titleType='short', primaryTitle='Blacksmith Scene', isAdult=None, startYear=1895, runtimeMinutes=1, genres=['Documentary', 'Short']),\n",
       " Row(tconst='tt0000023', titleType='short', primaryTitle='The Sea', isAdult=None, startYear=1895, runtimeMinutes=1, genres=['Documentary', 'Short']),\n",
       " Row(tconst='tt0000024', titleType='short', primaryTitle='Opening of the Kiel Canal', isAdult=None, startYear=1895, runtimeMinutes=None, genres=['News', 'Short']),\n",
       " Row(tconst='tt0000025', titleType='short', primaryTitle='The Oxford and Cambridge University Boat Race', isAdult=None, startYear=1895, runtimeMinutes=None, genres=['News', 'Short', 'Sport']),\n",
       " Row(tconst='tt0000026', titleType='short', primaryTitle='The Messers. Lumière at Cards', isAdult=None, startYear=1896, runtimeMinutes=1, genres=['Documentary', 'Short']),\n",
       " Row(tconst='tt0000027', titleType='short', primaryTitle=\"Cordeliers' Square in Lyon\", isAdult=None, startYear=1895, runtimeMinutes=1, genres=['Documentary', 'Short']),\n",
       " Row(tconst='tt0000028', titleType='short', primaryTitle='Fishing for Goldfish', isAdult=None, startYear=1895, runtimeMinutes=1, genres=['Documentary', 'Short']),\n",
       " Row(tconst='tt0000029', titleType='short', primaryTitle=\"Baby's Meal\", isAdult=None, startYear=1895, runtimeMinutes=1, genres=['Documentary', 'Short']),\n",
       " Row(tconst='tt0000030', titleType='short', primaryTitle='Rough Sea at Dover', isAdult=None, startYear=1895, runtimeMinutes=1, genres=['Documentary', 'Short']),\n",
       " Row(tconst='tt0000031', titleType='short', primaryTitle='Jumping the Blanket', isAdult=None, startYear=1895, runtimeMinutes=1, genres=['Documentary', 'Short']),\n",
       " Row(tconst='tt0000032', titleType='short', primaryTitle='Die Serpentintänzerin', isAdult=None, startYear=1895, runtimeMinutes=1, genres=['Short']),\n",
       " Row(tconst='tt0000033', titleType='short', primaryTitle='Horse Trick Riders', isAdult=None, startYear=1895, runtimeMinutes=1, genres=['Comedy', 'Documentary', 'Short']),\n",
       " Row(tconst='tt0000034', titleType='short', primaryTitle=\"Arrivée d'un train gare de Vincennes\", isAdult=None, startYear=1896, runtimeMinutes=1, genres=['Documentary', 'Short']),\n",
       " Row(tconst='tt0000035', titleType='short', primaryTitle='Watering the Flowers', isAdult=None, startYear=1896, runtimeMinutes=1, genres=['Comedy', 'Short']),\n",
       " Row(tconst='tt0000036', titleType='short', primaryTitle='Awakening of Rip', isAdult=None, startYear=1896, runtimeMinutes=0, genres=['Drama', 'Short']),\n",
       " Row(tconst='tt0000037', titleType='short', primaryTitle='Sea Bathing', isAdult=None, startYear=1896, runtimeMinutes=1, genres=['Short']),\n",
       " Row(tconst='tt0000038', titleType='short', primaryTitle='The Ball Game', isAdult=None, startYear=1898, runtimeMinutes=None, genres=['Documentary', 'Short', 'Sport']),\n",
       " Row(tconst='tt0000039', titleType='short', primaryTitle='Barnet Horse Fair', isAdult=None, startYear=1896, runtimeMinutes=None, genres=['Short']),\n",
       " Row(tconst='tt0000040', titleType='short', primaryTitle='Barque sortant du port de Trouville', isAdult=None, startYear=1896, runtimeMinutes=None, genres=['Documentary', 'Short']),\n",
       " Row(tconst='tt0000041', titleType='short', primaryTitle='Bataille de neige', isAdult=None, startYear=1897, runtimeMinutes=1, genres=['Comedy', 'Documentary', 'Short'])]"
      ]
     },
     "execution_count": 150,
     "metadata": {},
     "output_type": "execute_result"
    }
   ],
   "source": [
    "df_title.take(40)"
   ]
  },
  {
   "cell_type": "code",
   "execution_count": 151,
   "id": "019a13e7",
   "metadata": {},
   "outputs": [],
   "source": [
    "### Using OneHotEncoding\n",
    "my_genres = ['Comedy', 'Horror', 'Drama', 'Romance']\n",
    "\n",
    "for genre in my_genres:\n",
    "    df_title = df_title.withColumn(f'{genre}_OneHot',\n",
    "                                   func.when(func.array_contains(func.col('genres'), genre) == True, 1).otherwise(0))"
   ]
  },
  {
   "cell_type": "code",
   "execution_count": 152,
   "id": "0bb3eff6",
   "metadata": {},
   "outputs": [
    {
     "name": "stdout",
     "output_type": "stream",
     "text": [
      "+-------------+-------------+\n",
      "|Comedy_OneHot|Horror_OneHot|\n",
      "+-------------+-------------+\n",
      "|            0|            0|\n",
      "|            0|            0|\n",
      "|            1|            0|\n",
      "|            0|            0|\n",
      "|            1|            0|\n",
      "|            0|            0|\n",
      "|            0|            0|\n",
      "|            0|            0|\n",
      "|            0|            0|\n",
      "|            0|            0|\n",
      "|            0|            0|\n",
      "|            0|            0|\n",
      "|            0|            0|\n",
      "|            1|            0|\n",
      "|            0|            0|\n",
      "|            0|            0|\n",
      "|            0|            0|\n",
      "|            0|            0|\n",
      "|            1|            0|\n",
      "|            0|            0|\n",
      "+-------------+-------------+\n",
      "only showing top 20 rows\n",
      "\n"
     ]
    }
   ],
   "source": [
    "### Check created columns\n",
    "df_title.select('Comedy_OneHot', 'Horror_OneHot').show()\n",
    "### Everything OK"
   ]
  },
  {
   "cell_type": "code",
   "execution_count": 153,
   "id": "6efea363",
   "metadata": {},
   "outputs": [],
   "source": [
    "### Define schema for ratings data\n",
    "rating_schema = StructType([\\\n",
    "                           StructField('tconst', StringType(), True),\\\n",
    "                           StructField('averageRating', FloatType(), True),\\\n",
    "                           StructField('numVotes', IntegerType(), True)\\\n",
    "])"
   ]
  },
  {
   "cell_type": "code",
   "execution_count": 154,
   "id": "53fdfaaf",
   "metadata": {},
   "outputs": [],
   "source": [
    "df_rating = spark.read.csv(rating, sep='\\t', header=True, schema=rating_schema)"
   ]
  },
  {
   "cell_type": "code",
   "execution_count": 155,
   "id": "8b55540b",
   "metadata": {},
   "outputs": [
    {
     "name": "stdout",
     "output_type": "stream",
     "text": [
      "root\n",
      " |-- tconst: string (nullable = true)\n",
      " |-- averageRating: float (nullable = true)\n",
      " |-- numVotes: integer (nullable = true)\n",
      "\n"
     ]
    }
   ],
   "source": [
    "### Check schema\n",
    "df_rating.printSchema()"
   ]
  },
  {
   "cell_type": "code",
   "execution_count": 156,
   "id": "5ccb54be",
   "metadata": {},
   "outputs": [
    {
     "name": "stdout",
     "output_type": "stream",
     "text": [
      "+---------+-------------+--------+\n",
      "|   tconst|averageRating|numVotes|\n",
      "+---------+-------------+--------+\n",
      "|tt0000001|          5.7|    1876|\n",
      "|tt0000002|          5.9|     248|\n",
      "|tt0000003|          6.5|    1648|\n",
      "|tt0000004|          5.8|     160|\n",
      "|tt0000005|          6.2|    2475|\n",
      "|tt0000006|          5.2|     165|\n",
      "|tt0000007|          5.4|     771|\n",
      "|tt0000008|          5.4|    2016|\n",
      "|tt0000009|          5.3|     193|\n",
      "|tt0000010|          6.9|    6775|\n",
      "|tt0000011|          5.3|     344|\n",
      "|tt0000012|          7.4|   11635|\n",
      "|tt0000013|          5.7|    1795|\n",
      "|tt0000014|          7.1|    5214|\n",
      "|tt0000015|          6.2|     991|\n",
      "|tt0000016|          5.9|    1403|\n",
      "|tt0000017|          4.6|     305|\n",
      "|tt0000018|          5.3|     561|\n",
      "|tt0000019|          5.2|      30|\n",
      "|tt0000020|          4.8|     332|\n",
      "+---------+-------------+--------+\n",
      "only showing top 20 rows\n",
      "\n"
     ]
    }
   ],
   "source": [
    "df_rating.show()"
   ]
  },
  {
   "cell_type": "code",
   "execution_count": 157,
   "id": "bdaf157a",
   "metadata": {},
   "outputs": [],
   "source": [
    "### Create final dataset\n",
    "\n",
    "df_main = df_title.join(func.broadcast(df_rating), ['tconst'], \"inner\")"
   ]
  },
  {
   "cell_type": "code",
   "execution_count": 158,
   "id": "13d22b52",
   "metadata": {},
   "outputs": [
    {
     "name": "stderr",
     "output_type": "stream",
     "text": [
      "                                                                                \r"
     ]
    },
    {
     "data": {
      "text/plain": [
       "[Row(tconst='tt0000001', titleType='short', primaryTitle='Carmencita', isAdult=None, startYear=1894, runtimeMinutes=1, genres=['Documentary', 'Short'], Comedy_OneHot=0, Horror_OneHot=0, Drama_OneHot=0, Romance_OneHot=0, averageRating=5.699999809265137, numVotes=1876),\n",
       " Row(tconst='tt0000002', titleType='short', primaryTitle='Le clown et ses chiens', isAdult=None, startYear=1892, runtimeMinutes=5, genres=['Animation', 'Short'], Comedy_OneHot=0, Horror_OneHot=0, Drama_OneHot=0, Romance_OneHot=0, averageRating=5.900000095367432, numVotes=248),\n",
       " Row(tconst='tt0000003', titleType='short', primaryTitle='Pauvre Pierrot', isAdult=None, startYear=1892, runtimeMinutes=4, genres=['Animation', 'Comedy', 'Romance'], Comedy_OneHot=1, Horror_OneHot=0, Drama_OneHot=0, Romance_OneHot=1, averageRating=6.5, numVotes=1648),\n",
       " Row(tconst='tt0000004', titleType='short', primaryTitle='Un bon bock', isAdult=None, startYear=1892, runtimeMinutes=12, genres=['Animation', 'Short'], Comedy_OneHot=0, Horror_OneHot=0, Drama_OneHot=0, Romance_OneHot=0, averageRating=5.800000190734863, numVotes=160),\n",
       " Row(tconst='tt0000005', titleType='short', primaryTitle='Blacksmith Scene', isAdult=None, startYear=1893, runtimeMinutes=1, genres=['Comedy', 'Short'], Comedy_OneHot=1, Horror_OneHot=0, Drama_OneHot=0, Romance_OneHot=0, averageRating=6.199999809265137, numVotes=2475),\n",
       " Row(tconst='tt0000006', titleType='short', primaryTitle='Chinese Opium Den', isAdult=None, startYear=1894, runtimeMinutes=1, genres=['Short'], Comedy_OneHot=0, Horror_OneHot=0, Drama_OneHot=0, Romance_OneHot=0, averageRating=5.199999809265137, numVotes=165)]"
      ]
     },
     "execution_count": 158,
     "metadata": {},
     "output_type": "execute_result"
    }
   ],
   "source": [
    "df_main.take(6)"
   ]
  },
  {
   "cell_type": "code",
   "execution_count": 159,
   "id": "1b4578f1",
   "metadata": {},
   "outputs": [
    {
     "name": "stderr",
     "output_type": "stream",
     "text": [
      "                                                                                \r"
     ]
    }
   ],
   "source": [
    "### Write to parquet file\n",
    "df_main.write.parquet('title_rating.parquet')"
   ]
  }
 ],
 "metadata": {
  "kernelspec": {
   "display_name": "Python 3 (ipykernel)",
   "language": "python",
   "name": "python3"
  },
  "language_info": {
   "codemirror_mode": {
    "name": "ipython",
    "version": 3
   },
   "file_extension": ".py",
   "mimetype": "text/x-python",
   "name": "python",
   "nbconvert_exporter": "python",
   "pygments_lexer": "ipython3",
   "version": "3.8.10"
  }
 },
 "nbformat": 4,
 "nbformat_minor": 5
}
